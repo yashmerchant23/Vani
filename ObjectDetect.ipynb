{
 "cells": [
  {
   "cell_type": "code",
   "execution_count": null,
   "id": "986db6d0",
   "metadata": {},
   "outputs": [],
   "source": [
    "import cv2\n",
    "import time\n",
    "import os"
   ]
  },
  {
   "cell_type": "code",
   "execution_count": null,
   "id": "501a8777",
   "metadata": {
    "lines_to_next_cell": 2
   },
   "outputs": [],
   "source": [
    "folder = \"frames\""
   ]
  },
  {
   "cell_type": "code",
   "execution_count": null,
   "id": "174347bc",
   "metadata": {},
   "outputs": [],
   "source": [
    "current_directory = os.getcwd()\n",
    "frames_dir = os.path.join(current_directory, folder)       # creates a path for the new folder in the directory\n",
    "os.makedirs(frames_dir, exist_ok=True)  #create a folder in the same directory if it already does not exists\n",
    "path = f\"{folder}/frame.jpg\""
   ]
  },
  {
   "cell_type": "code",
   "execution_count": null,
   "id": "7664a538",
   "metadata": {},
   "outputs": [],
   "source": [
    "# initializing the webcam\n",
    "cap = cv2.VideoCapture(0)"
   ]
  },
  {
   "cell_type": "code",
   "execution_count": null,
   "id": "8b19178f",
   "metadata": {},
   "outputs": [],
   "source": [
    "# Create a resizable window\n",
    "cv2.namedWindow(\"Live Feed\", cv2.WINDOW_NORMAL)\n",
    "cv2.namedWindow(\"Delayed Feed\", cv2.WINDOW_NORMAL)"
   ]
  },
  {
   "cell_type": "code",
   "execution_count": null,
   "id": "ae50eb4d",
   "metadata": {},
   "outputs": [],
   "source": [
    "# Check if the webcam is opened correctly\n",
    "if not cap.isOpened():\n",
    "    print(\"Webcam not started......\")\n",
    "    exit()"
   ]
  },
  {
   "cell_type": "code",
   "execution_count": null,
   "id": "fd0b4bba",
   "metadata": {},
   "outputs": [],
   "source": [
    "# Capture frames\n",
    "while True:\n",
    "    # Read a frame\n",
    "    ret, frame = cap.read()\n",
    "    if not ret:\n",
    "        print(\"Cannot read frame\")\n",
    "        break\n",
    "\n",
    "    # Display frame in \"Live Feed\" window (no delay)\n",
    "    cv2.imshow(\"Live Feed\", frame)\n",
    "\n",
    "    # Exit on 'q' key press\n",
    "    if cv2.waitKey(1) == ord('q'):\n",
    "        break\n",
    "\n",
    "    # Display frame in \"Delayed Feed\" window with a 2-second delay\n",
    "    if time.time() % 2 < 1:           # we dont stop the time we only save/show the frame when time is multiple of 2\n",
    "        cv2.imshow(\"Delayed Feed\", frame)\n",
    "        # Save the frame\n",
    "        cv2.imwrite(path, frame)  # saving the latest frame in the folder by replacing the previous one(as they both are named the same)\n",
    "        print(\"You are being watched 👀\")"
   ]
  },
  {
   "cell_type": "code",
   "execution_count": null,
   "id": "3de82a2a",
   "metadata": {
    "lines_to_next_cell": 2
   },
   "outputs": [],
   "source": [
    "# Release the camera\n",
    "cap.release()\n",
    "cv2.destroyAllWindows()"
   ]
  }
 ],
 "metadata": {
  "jupytext": {
   "cell_metadata_filter": "-all",
   "main_language": "python",
   "notebook_metadata_filter": "-all"
  }
 },
 "nbformat": 4,
 "nbformat_minor": 5
}
